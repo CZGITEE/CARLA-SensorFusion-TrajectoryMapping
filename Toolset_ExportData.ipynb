{
 "cells": [
  {
   "cell_type": "code",
   "execution_count": null,
   "id": "acabb5c7-3d0c-4ee6-ab62-28c7c974b2c4",
   "metadata": {},
   "outputs": [],
   "source": [
    "import zmq\n",
    "import numpy as np\n",
    "import os\n",
    "\n",
    "# Directory to save data\n",
    "output_dir = 'sensor_data'\n",
    "os.makedirs(output_dir, exist_ok=True)\n",
    "\n",
    "# Initialize ZeroMQ context and socket for receiving data\n",
    "context = zmq.Context()\n",
    "socket = context.socket(zmq.SUB)\n",
    "socket.connect(\"tcp://localhost:5556\")\n",
    "socket.setsockopt_string(zmq.SUBSCRIBE, '')\n",
    "\n",
    "# Receive and save data\n",
    "while True:\n",
    "    message = socket.recv_pyobj()\n",
    "    if message['type'] == 'camera':\n",
    "        frame_number = message['frame']\n",
    "        image_data = message['data']\n",
    "        np.save(os.path.join(output_dir, f'camera_{frame_number}.npy'), image_data[:, :, :3])\n",
    "    elif message['type'] == 'lidar':\n",
    "        frame_number = message['frame']\n",
    "        lidar_data = message['data']\n",
    "        np.save(os.path.join(output_dir, f'lidar_{frame_number}.npy'), lidar_data)\n"
   ]
  }
 ],
 "metadata": {
  "kernelspec": {
   "display_name": "Python 3 (ipykernel)",
   "language": "python",
   "name": "python3"
  },
  "language_info": {
   "codemirror_mode": {
    "name": "ipython",
    "version": 3
   },
   "file_extension": ".py",
   "mimetype": "text/x-python",
   "name": "python",
   "nbconvert_exporter": "python",
   "pygments_lexer": "ipython3",
   "version": "3.8.19"
  }
 },
 "nbformat": 4,
 "nbformat_minor": 5
}
