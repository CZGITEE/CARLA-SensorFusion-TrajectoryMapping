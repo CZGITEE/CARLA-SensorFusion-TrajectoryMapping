{
 "cells": [
  {
   "cell_type": "code",
   "execution_count": null,
   "id": "f9e7bb13-6645-4505-aaec-dff7d0dba51b",
   "metadata": {
    "tags": []
   },
   "outputs": [],
   "source": [
    "import carla \n",
    "import math \n",
    "import random \n",
    "import time \n",
    "import numpy as np\n",
    "import cv2\n",
    "import open3d as o3d\n",
    "from matplotlib import pyplot as plt\n",
    "from matplotlib import cm\n",
    "\n",
    "#0605\n",
    "import zmq\n",
    "import os\n",
    "# Directory for data export\n",
    "output_dir = 'sensor_data'\n",
    "os.makedirs(output_dir, exist_ok=True)\n",
    "# Initialize ZeroMQ context and socket for sending data\n",
    "context = zmq.Context()\n",
    "socket = context.socket(zmq.PUB)\n",
    "socket.bind(\"tcp://*:5556\")\n",
    "\n",
    "client = carla.Client('localhost', 2000) \n",
    "world = client.get_world()\n",
    "#client.reload_world()\n",
    "\n",
    "bp_lib = world.get_blueprint_library() \n",
    "spawn_points = world.get_map().get_spawn_points() "
   ]
  },
  {
   "cell_type": "code",
   "execution_count": null,
   "id": "c8100b97-d6c8-42fc-be4d-ceb039082fb8",
   "metadata": {
    "tags": []
   },
   "outputs": [],
   "source": [
    "# Get the blueprint for the vehicle you want\n",
    "vehicle_bp = bp_lib.find('vehicle.lincoln.mkz_2020') \n",
    "\n",
    "# Try spawning the vehicle at a randomly chosen spawn point\n",
    "vehicle = world.try_spawn_actor(vehicle_bp, random.choice(spawn_points))\n",
    "\n",
    "# Move the spectator behind the vehicle \n",
    "spectator = world.get_spectator() \n",
    "transform = carla.Transform(vehicle.get_transform().transform(carla.Location(x=-4,z=2.5)),vehicle.get_transform().rotation) \n",
    "spectator.set_transform(transform) \n",
    "\n",
    "# Add traffic to the simulation\n",
    "for i in range(30): \n",
    "    vehicle_bp = random.choice(bp_lib.filter('vehicle')) \n",
    "    npc = world.try_spawn_actor(vehicle_bp, random.choice(spawn_points))  \n",
    "    \n",
    "# Set the all vehicles in motion using the Traffic Manager\n",
    "for v in world.get_actors().filter('*vehicle*'): \n",
    "    v.set_autopilot(True) "
   ]
  },
  {
   "cell_type": "markdown",
   "id": "218dcb2e-39ab-45b0-83e7-741290a99093",
   "metadata": {},
   "source": [
    "Misc. Notes"
   ]
  },
  {
   "cell_type": "code",
   "execution_count": null,
   "id": "e3987e6c-8097-4169-93e9-ba226d1e26ef",
   "metadata": {
    "tags": []
   },
   "outputs": [],
   "source": [
    "# Notes \n",
    "\n",
    "## Camera & sensor lists\n",
    "#for bp in bp_lib.filter('camera'):\n",
    "#    print(bp.id)\n",
    "#for bp in bp_lib.filter('sensor'):\n",
    "#    print(bp.id)"
   ]
  },
  {
   "cell_type": "markdown",
   "id": "cfb8e56e-b0cf-400b-8a8b-bcd79d7ad65a",
   "metadata": {},
   "source": [
    "Spawn Camera"
   ]
  },
  {
   "cell_type": "code",
   "execution_count": null,
   "id": "586d6a4f-9a94-4e17-abff-d6d42a26cb52",
   "metadata": {
    "tags": []
   },
   "outputs": [],
   "source": [
    "# Spawn an RGB cammera with an offset from the vehicle center\n",
    "camera_bp = bp_lib.find('sensor.camera.rgb') \n",
    "#camera_init_trans = carla.Transform(carla.Location(z=1.6, x=0.4)) \n",
    "camera_init_trans = carla.Transform(carla.Location(z=2.5, x=-3), carla.Rotation())\n",
    "camera = world.spawn_actor(camera_bp, camera_init_trans, attach_to=vehicle)\n",
    "\n",
    "# # Check camera set position \n",
    "# time.sleep(0.5) \n",
    "# spectator.set_transform(camera.get_transform())\n",
    "# camera.destroy()\n",
    "\n",
    "# # Start the camera saving data to disk\n",
    "# camera.listen(lambda image: image.save_to_disk('out/%06d.png' % image.frame))\n",
    "# # Stop the camera when we've recorded enough data\n",
    "# time.sleep(5) # 5Hz\n",
    "# camera.stop()"
   ]
  },
  {
   "cell_type": "code",
   "execution_count": null,
   "id": "7c8b1f3e-1ce8-4713-b20c-78c62e56198a",
   "metadata": {
    "tags": []
   },
   "outputs": [],
   "source": [
    "def camera_callback(image, data_dict):\n",
    "    data_dict['image'] = np.reshape(np.copy(image.raw_data), (image.height, image.width, 4))\n",
    "   \n",
    "    #0605 \n",
    "    # Send camera image data via ZeroMQ\n",
    "    socket.send_pyobj({'type': 'camera', 'frame': image.frame, 'data': data_dict['image']})\n",
    "    \n",
    "image_w = camera_bp.get_attribute(\"image_size_x\").as_int()\n",
    "image_h = camera_bp.get_attribute(\"image_size_y\").as_int()\n",
    "\n",
    "camera_data = {'image': np.zeros((image_h, image_w, 4))}\n",
    "\n",
    "camera.listen(lambda image: camera_callback(image, camera_data))"
   ]
  },
  {
   "cell_type": "markdown",
   "id": "83096d90-5ad7-4a2b-8b61-041294fe36f2",
   "metadata": {},
   "source": [
    "Spawn Sensor"
   ]
  },
  {
   "cell_type": "code",
   "execution_count": null,
   "id": "d2cd6989-410f-43f4-8e02-a33fa735da32",
   "metadata": {
    "tags": []
   },
   "outputs": [],
   "source": [
    "# Color mapping for sensors\n",
    "VIRIDIS = np.array(plt.colormaps.get_cmap('plasma').colors)\n",
    "VID_RANGE = np.linspace(0.0, 1.0, VIRIDIS.shape[0])\n",
    "\n",
    "COOL_RANGE = np.linspace(0.0, 1.0, VIRIDIS.shape[0])\n",
    "COOL = np.array(plt.colormaps.get_cmap('winter')(COOL_RANGE))\n",
    "COOL = COOL[:, :3]\n",
    "\n",
    "def add_open3d_axis(vis):\n",
    "    \"\"\"Add a small 3D axis on Open3D Visualizer\"\"\"\n",
    "    axis = o3d.geometry.LineSet()\n",
    "    axis.points = o3d.utility.Vector3dVector(np.array([\n",
    "        [0.0, 0.0, 0.0],\n",
    "        [1.0, 0.0, 0.0],\n",
    "        [0.0, 1.0, 0.0],\n",
    "        [0.0, 0.0, 1.0]]))\n",
    "    axis.lines = o3d.utility.Vector2iVector(np.array([\n",
    "        [0, 1],\n",
    "        [0, 2],\n",
    "        [0, 3]]))\n",
    "    axis.colors = o3d.utility.Vector3dVector(np.array([\n",
    "        [1.0, 0.0, 0.0],\n",
    "        [0.0, 1.0, 0.0],\n",
    "        [0.0, 0.0, 1.0]]))\n",
    "    vis.add_geometry(axis)\n"
   ]
  },
  {
   "cell_type": "code",
   "execution_count": null,
   "id": "d9fa6229-2acf-4f7c-874b-47237cafe195",
   "metadata": {
    "tags": []
   },
   "outputs": [],
   "source": [
    "def lidar_callback(point_cloud, point_list):\n",
    "    \"\"\"Prepares a point cloud with intensity colors ready to be consumed by Open3D\"\"\"\n",
    "    data = np.copy(np.frombuffer(point_cloud.raw_data, dtype=np.dtype('f4')))\n",
    "    data = np.reshape(data, (int(data.shape[0] / 4), 4))\n",
    "\n",
    "#0605\n",
    "    # Send LIDAR point cloud data via ZeroMQ\n",
    "    socket.send_pyobj({'type': 'lidar', 'frame': point_cloud.frame, 'data': data[:, :-1]})\n",
    "\n",
    "\n",
    "    # Isolate the intensity and compute a color for it\n",
    "    intensity = data[:, -1]\n",
    "    intensity_col = 1.0 - np.log(intensity) / np.log(np.exp(-0.004 * 100))\n",
    "    int_color = np.c_[\n",
    "        np.interp(intensity_col, VID_RANGE, VIRIDIS[:, 0]),\n",
    "        np.interp(intensity_col, VID_RANGE, VIRIDIS[:, 1]),\n",
    "        np.interp(intensity_col, VID_RANGE, VIRIDIS[:, 2])]\n",
    "\n",
    "    points = data[:, :-1]\n",
    "\n",
    "    points[:, :1] = -points[:, :1]\n",
    "\n",
    "    point_list.points = o3d.utility.Vector3dVector(points)\n",
    "    point_list.colors = o3d.utility.Vector3dVector(int_color)\n",
    "\n",
    "def radar_callback(data, point_list):\n",
    "    radar_data = np.zeros((len(data), 4))\n",
    "\n",
    "    for i, detection in enumerate(data):\n",
    "        x = detection.depth * math.cos(detection.altitude) * math.cos(detection.azimuth)\n",
    "        y = detection.depth * math.cos(detection.altitude) * math.sin(detection.azimuth)\n",
    "        z = detection.depth * math.sin(detection.altitude)\n",
    "\n",
    "        radar_data[i, :] = [x, y, z, detection.velocity]\n",
    "\n",
    "    intensity = np.abs(radar_data[:, -1])\n",
    "    intensity_col = 1.0 - np.log(intensity) / np.log(np.exp(-0.004 * 100))\n",
    "    int_color = np.c_[\n",
    "        np.interp(intensity_col, COOL_RANGE, COOL[:, 0]),\n",
    "        np.interp(intensity_col, COOL_RANGE, COOL[:, 1]),\n",
    "        np.interp(intensity_col, COOL_RANGE, COOL[:, 2])]\n",
    "\n",
    "    points = radar_data[:, :-1]\n",
    "    points[:, :1] = -points[:, :1]\n",
    "\n",
    "    point_list.points = o3d.utility.Vector3dVector(points)\n",
    "    point_list.colors = o3d.utility.Vector3dVector(int_color)\n"
   ]
  },
  {
   "cell_type": "code",
   "execution_count": null,
   "id": "f0bcc799-ca68-4148-9904-fb1e257562f2",
   "metadata": {
    "tags": []
   },
   "outputs": [],
   "source": [
    "lidar_bp = bp_lib.find('sensor.lidar.ray_cast')\n",
    "lidar_bp.set_attribute('range', '100.0')\n",
    "lidar_bp.set_attribute('noise_stddev', '0.1')\n",
    "lidar_bp.set_attribute('upper_fov', '15.0')\n",
    "lidar_bp.set_attribute('lower_fov', '-25.0')\n",
    "lidar_bp.set_attribute('channels', '64.0')\n",
    "lidar_bp.set_attribute('rotation_frequency', '20.0')\n",
    "lidar_bp.set_attribute('points_per_second', '500000')\n",
    "\n",
    "lidar_init_trans = carla.Transform(carla.Location(z=2))\n",
    "lidar = world.spawn_actor(lidar_bp, lidar_init_trans, attach_to=vehicle)\n",
    "\n",
    "radar_bp = bp_lib.find('sensor.other.radar')\n",
    "radar_bp.set_attribute('horizontal_fov', '30.0')\n",
    "radar_bp.set_attribute('vertical_fov', '30.0')\n",
    "radar_bp.set_attribute('points_per_second', '10000')\n",
    "\n",
    "radar_init_trans = carla.Transform(carla.Location(z=2))\n",
    "radar = world.spawn_actor(radar_bp, radar_init_trans, attach_to=vehicle)\n",
    "\n",
    "point_list = o3d.geometry.PointCloud()\n",
    "radar_list = o3d.geometry.PointCloud()\n",
    "\n",
    "lidar.listen(lambda data: lidar_callback(data, point_list))\n",
    "radar.listen(lambda data: radar_callback(data, radar_list))"
   ]
  },
  {
   "cell_type": "markdown",
   "id": "a8a31b50-fe11-4e91-92de-585c31ac300e",
   "metadata": {},
   "source": [
    "Computer Vision Windows"
   ]
  },
  {
   "cell_type": "code",
   "execution_count": null,
   "id": "db21aac2-a3c2-4b6c-966d-8611e1ad5b99",
   "metadata": {
    "scrolled": true,
    "tags": []
   },
   "outputs": [],
   "source": [
    "cv2.namedWindow('RGB Camera', cv2.WINDOW_AUTOSIZE)\n",
    "cv2.imshow('RGB Camera', camera_data['image'])\n",
    "cv2.waitKey(1)\n",
    "\n",
    "vis = o3d.visualization.Visualizer()\n",
    "vis.create_window(\n",
    "    window_name='Carla Lidar',\n",
    "    width=960,\n",
    "    height=540,\n",
    "    left=480,\n",
    "    top=270)\n",
    "\n",
    "vis.get_render_option().background_color = [0.05, 0.05, 0.05]\n",
    "vis.get_render_option().point_size = 1\n",
    "vis.get_render_option().show_coordinate_frame = True\n",
    "add_open3d_axis(vis)\n",
    "\n",
    "frame = 0\n",
    "while True:\n",
    "    if frame == 2:\n",
    "        vis.add_geometry(point_list)\n",
    "        vis.add_geometry(radar_list)\n",
    "    vis.update_geometry(point_list)\n",
    "    vis.update_geometry(radar_list)\n",
    "\n",
    "    vis.poll_events()\n",
    "    vis.update_renderer()\n",
    "    # This can fix Open3D jittering issues:\n",
    "    time.sleep(0.005)\n",
    "    frame += 1\n",
    "\n",
    "    cv2.imshow('RGB Camera', camera_data['image'])\n",
    "    if cv2.waitKey(1) == ord('q'):\n",
    "        break\n",
    "        \n",
    "cv2.destroyAllWindows()\n",
    "radar.stop()\n",
    "radar.destroy()\n",
    "lidar.stop()\n",
    "lidar.destroy()\n",
    "camera.stop()\n",
    "camera.destroy()\n",
    "vis.destroy_window()\n",
    "\n",
    "for actor in world.get_actors().filter('*vehicle*'):\n",
    "    actor.destroy()\n",
    "\n",
    "for actor in world.get_actors().filter('*sensor*'):\n",
    "    actor.destroy()"
   ]
  }
 ],
 "metadata": {
  "kernelspec": {
   "display_name": "Python 3 (ipykernel)",
   "language": "python",
   "name": "python3"
  },
  "language_info": {
   "codemirror_mode": {
    "name": "ipython",
    "version": 3
   },
   "file_extension": ".py",
   "mimetype": "text/x-python",
   "name": "python",
   "nbconvert_exporter": "python",
   "pygments_lexer": "ipython3",
   "version": "3.8.19"
  }
 },
 "nbformat": 4,
 "nbformat_minor": 5
}
