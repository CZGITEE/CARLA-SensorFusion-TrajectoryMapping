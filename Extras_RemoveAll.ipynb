{
 "cells": [
  {
   "cell_type": "code",
   "execution_count": null,
   "id": "6246c771-2c36-4bf5-bf35-7acd5b902df1",
   "metadata": {
    "tags": []
   },
   "outputs": [],
   "source": [
    "import carla\n",
    "\n",
    "# Connect to the client and get the world object\n",
    "client = carla.Client('localhost', 2000)\n",
    "client.set_timeout(10.0)\n",
    "world = client.get_world()\n",
    "\n",
    "# Remove all actors\n",
    "actors = world.get_actors()\n",
    "for actor in actors:\n",
    "    if 'vehicle' in actor.type_id or 'sensor' in actor.type_id:\n",
    "        actor.destroy()\n",
    "\n",
    "print(\"Destroyed all\")\n"
   ]
  }
 ],
 "metadata": {
  "kernelspec": {
   "display_name": "Python 3 (ipykernel)",
   "language": "python",
   "name": "python3"
  },
  "language_info": {
   "codemirror_mode": {
    "name": "ipython",
    "version": 3
   },
   "file_extension": ".py",
   "mimetype": "text/x-python",
   "name": "python",
   "nbconvert_exporter": "python",
   "pygments_lexer": "ipython3",
   "version": "3.8.19"
  }
 },
 "nbformat": 4,
 "nbformat_minor": 5
}
