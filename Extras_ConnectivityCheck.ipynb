{
 "cells": [
  {
   "cell_type": "code",
   "execution_count": null,
   "id": "478ef8e8-302e-4152-8068-d9e0abf8aabc",
   "metadata": {
    "tags": []
   },
   "outputs": [],
   "source": [
    "import carla\n",
    "import random\n",
    "import time\n",
    "\n",
    "def main():\n",
    "    client = carla.Client('localhost', 2000)\n",
    "    client.set_timeout(10.0)\n",
    "    world = client.get_world()\n",
    "    bp_lib = world.get_blueprint_library()\n",
    "    vehicle_bp = bp_lib.filter('vehicle.*')[0]\n",
    "    spawn_points = world.get_map().get_spawn_points()\n",
    "    spawn_point = random.choice(spawn_points)\n",
    "    vehicle = world.try_spawn_actor(vehicle_bp, spawn_point)\n",
    "    if vehicle is None:\n",
    "        raise RuntimeError(\"Failed to spawn the vehicle\")\n",
    "    camera_bp = bp_lib.find('sensor.camera.rgb')\n",
    "    camera_init_trans = carla.Transform(carla.Location(x=0.8, z=1.7))\n",
    "    camera = world.spawn_actor(camera_bp, camera_init_trans, attach_to=vehicle)\n",
    "    def process_image(image):\n",
    "        print(\"Connected\")\n",
    "        \n",
    "    camera.listen(lambda image: process_image(image))\n",
    "    time.sleep(10)\n",
    "    camera.stop()\n",
    "    camera.destroy()\n",
    "    vehicle.destroy()\n",
    "if __name__ == '__main__':\n",
    "    main()\n"
   ]
  }
 ],
 "metadata": {
  "kernelspec": {
   "display_name": "Python 3 (ipykernel)",
   "language": "python",
   "name": "python3"
  },
  "language_info": {
   "codemirror_mode": {
    "name": "ipython",
    "version": 3
   },
   "file_extension": ".py",
   "mimetype": "text/x-python",
   "name": "python",
   "nbconvert_exporter": "python",
   "pygments_lexer": "ipython3",
   "version": "3.8.19"
  }
 },
 "nbformat": 4,
 "nbformat_minor": 5
}
